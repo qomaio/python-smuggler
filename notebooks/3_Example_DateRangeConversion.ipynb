{
 "cells": [
  {
   "cell_type": "markdown",
   "metadata": {},
   "source": [
    "# Pandas and FAME date ranges\n",
    "\n",
    "Pandas and FAME represent date ranges differently.  This notebook illustrates converting from FAME range to Pandas range using  Qoma utilities package `qomautils`.\n",
    "\n",
    "This notebook utilizes FAME HLI (host language interface) function `fame_current_tme()` exposed by the `pyhli` package to obtain current date at various frequencies: current business day, current hour, current minute, ...\n",
    "\n",
    "The test performed below for a variety of FAME frequencies is:\n",
    "*  convert the FAME `[]int` range to Pandas `DatetimeIndex`\n",
    "*  convert the Pandas  `DatetimeIndex` back to FAME `[]int` range\n",
    "*  verify the FAME input range and output range match"
   ]
  },
  {
   "cell_type": "code",
   "execution_count": 1,
   "metadata": {},
   "outputs": [],
   "source": [
    "import os\n",
    "from __future__ import print_function\n",
    "\n",
    "import pandas as pd\n",
    "import pyhli \n",
    "import qoma_smuggler as qm"
   ]
  },
  {
   "cell_type": "markdown",
   "metadata": {},
   "source": [
    "The Qoma utility function `open_hli()` opens the FAME environment and prints diagnostic information."
   ]
  },
  {
   "cell_type": "code",
   "execution_count": 2,
   "metadata": {},
   "outputs": [
    {
     "name": "stdout",
     "output_type": "stream",
     "text": [
      "Linux 4.14.33+ (#1 SMP Wed Jun 20 01:15:52 PDT 2018) x86_64\n",
      "Python 2.7.5 (default, Apr 11 2018, 07:36:10) \n",
      "[GCC 4.8.5 20150623 (Red Hat 4.8.5-28)]\n",
      "NumPy 1.14.5 Pandas 0.23.3 FAME HLI 11.63000 pyhli 0.0.6\n"
     ]
    }
   ],
   "source": [
    "if qm.open_hli()!=0:\n",
    "    raise"
   ]
  },
  {
   "cell_type": "markdown",
   "metadata": {},
   "source": [
    "Each frequency key in the FAME frequency to Pandas frequency map `pandasFreq` will be tested below. A mutable length-one integer array is provided to the FAME HLI routine `fame_current_time()` to obtain the current date at a specified frequency."
   ]
  },
  {
   "cell_type": "code",
   "execution_count": 3,
   "metadata": {},
   "outputs": [
    {
     "name": "stdout",
     "output_type": "stream",
     "text": [
      "DATE(MONTHLY)\n",
      "match      FAME in [129, 2019, 2023] FAME out [129, 2019, 2023]\n",
      "Pandas interim\n",
      "DatetimeIndex(['2018-03-31', '2018-04-30', '2018-05-31', '2018-06-30',\n",
      "               '2018-07-31'],\n",
      "              dtype='datetime64[ns]', freq='M')\n",
      "\n",
      "DATE(QUARTERLY)\n",
      "match      FAME in [162, 671, 675] FAME out [162, 671, 675]\n",
      "Pandas interim\n",
      "DatetimeIndex(['2017-09-30', '2017-12-31', '2018-03-31', '2018-06-30',\n",
      "               '2018-09-30'],\n",
      "              dtype='datetime64[ns]', freq='Q-DEC')\n",
      "\n",
      "DATE(MINUTELY)\n",
      "match      FAME in [227, 20292207, 20292211] FAME out [227, 20292207, 20292211]\n",
      "Pandas interim\n",
      "DatetimeIndex(['2018-07-31 19:26:00', '2018-07-31 19:27:00',\n",
      "               '2018-07-31 19:28:00', '2018-07-31 19:29:00',\n",
      "               '2018-07-31 19:30:00'],\n",
      "              dtype='datetime64[ns]', freq='T')\n",
      "\n",
      "DATE(HOURLY)\n",
      "match      FAME in [228, 338200, 338204] FAME out [228, 338200, 338204]\n",
      "Pandas interim\n",
      "DatetimeIndex(['2018-07-31 15:00:00', '2018-07-31 16:00:00',\n",
      "               '2018-07-31 17:00:00', '2018-07-31 18:00:00',\n",
      "               '2018-07-31 19:00:00'],\n",
      "              dtype='datetime64[ns]', freq='H')\n",
      "\n",
      "DATE(WEEKLY(FRIDAY))\n",
      "match      FAME in [21, 8792, 8796] FAME out [21, 8792, 8796]\n",
      "Pandas interim\n",
      "DatetimeIndex(['2018-07-06', '2018-07-13', '2018-07-20', '2018-07-27',\n",
      "               '2018-08-03'],\n",
      "              dtype='datetime64[ns]', freq='W-FRI')\n",
      "\n",
      "DATE(DAILY)\n",
      "match      FAME in [8, 61569, 61573] FAME out [8, 61569, 61573]\n",
      "Pandas interim\n",
      "DatetimeIndex(['2018-07-27', '2018-07-28', '2018-07-29', '2018-07-30',\n",
      "               '2018-07-31'],\n",
      "              dtype='datetime64[ns]', freq='D')\n",
      "\n",
      "DATE(BUSINESS)\n",
      "match      FAME in [9, 43977, 43981] FAME out [9, 43977, 43981]\n",
      "Pandas interim\n",
      "DatetimeIndex(['2018-07-25', '2018-07-26', '2018-07-27', '2018-07-30',\n",
      "               '2018-07-31'],\n",
      "              dtype='datetime64[ns]', freq='B')\n",
      "\n",
      "DATE(ANNUAL)\n",
      "match      FAME in [203, 165, 169] FAME out [203, 165, 169]\n",
      "Pandas interim\n",
      "DatetimeIndex(['2014-12-31', '2015-12-31', '2016-12-31', '2017-12-31',\n",
      "               '2018-12-31'],\n",
      "              dtype='datetime64[ns]', freq='A-DEC')\n",
      "\n",
      "DATE(SECONDLY)\n",
      "match      FAME in [226, 1217532609, 1217532613] FAME out [226, 1217532609, 1217532613]\n",
      "Pandas interim\n",
      "DatetimeIndex(['2018-07-31 19:30:08', '2018-07-31 19:30:09',\n",
      "               '2018-07-31 19:30:10', '2018-07-31 19:30:11',\n",
      "               '2018-07-31 19:30:12'],\n",
      "              dtype='datetime64[ns]', freq='S')\n",
      "\n",
      "DATE(MILLISECONDLY)\n",
      "match      FAME in [229, 1217532612764, 1217532612768] FAME out [229, 1217532612764, 1217532612768]\n",
      "Pandas interim\n",
      "DatetimeIndex(['2018-07-31 19:30:12.763000', '2018-07-31 19:30:12.764000',\n",
      "               '2018-07-31 19:30:12.765000', '2018-07-31 19:30:12.766000',\n",
      "               '2018-07-31 19:30:12.767000'],\n",
      "              dtype='datetime64[ns]', freq='L')\n",
      "\n"
     ]
    }
   ],
   "source": [
    "date = [-1]\n",
    "for freq in qm.PANDAS_FREQ:\n",
    "    # at each frequency, ask FAME for current date\n",
    "    status = pyhli.fame_current_time(freq, date)\n",
    "    now = date[0]\n",
    "    then = now-4\n",
    "    \n",
    "    # FAME range specifies: freq,start,end\n",
    "    frng_in = [freq,then,now]\n",
    "    # get Pandas range from FAME range\n",
    "    prng = qm.to_pandas_range(frng_in)\n",
    "    # get FAME range from Pandas range\n",
    "    frng_out = qm.to_fame_range(prng)\n",
    "    \n",
    "    # check that the FAME range in matches the FAME range out\n",
    "    matchString = \"match\" if frng_in == frng_out else \"NO MATCH\"\n",
    "    print(\"{0}\\n{1:10s} FAME in {2} FAME out {3}\\nPandas interim\\n{4}\\n\".format(\n",
    "        qm.type_to_string(freq),\n",
    "        matchString,\n",
    "        frng_in,\n",
    "        frng_out,\n",
    "        prng\n",
    "    ))"
   ]
  },
  {
   "cell_type": "markdown",
   "metadata": {},
   "source": [
    "The Qoma utility function `close_hli()` closes the FAME environment."
   ]
  },
  {
   "cell_type": "code",
   "execution_count": 4,
   "metadata": {},
   "outputs": [],
   "source": [
    "if qm.close_hli()!=0:\n",
    "    raise"
   ]
  }
 ],
 "metadata": {
  "kernelspec": {
   "display_name": "Python 2",
   "language": "python",
   "name": "python2"
  },
  "language_info": {
   "codemirror_mode": {
    "name": "ipython",
    "version": 2
   },
   "file_extension": ".py",
   "mimetype": "text/x-python",
   "name": "python",
   "nbconvert_exporter": "python",
   "pygments_lexer": "ipython2",
   "version": "2.7.5"
  }
 },
 "nbformat": 4,
 "nbformat_minor": 2
}
