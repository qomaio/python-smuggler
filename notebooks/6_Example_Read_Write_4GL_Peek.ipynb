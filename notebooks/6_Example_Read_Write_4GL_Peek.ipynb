{
 "cells": [
  {
   "cell_type": "code",
   "execution_count": 1,
   "metadata": {},
   "outputs": [],
   "source": [
    "from __future__ import print_function\n",
    "import os\n",
    "\n",
    "from pyhli import *\n",
    "import qoma_smuggler as qm"
   ]
  },
  {
   "cell_type": "code",
   "execution_count": 2,
   "metadata": {},
   "outputs": [
    {
     "name": "stdout",
     "output_type": "stream",
     "text": [
      "Linux 4.9.0-4-amd64 (#1 SMP Debian 4.9.65-3+deb9u1 (2017-12-23)) x86_64\n",
      "Python 3.6.5 | packaged by conda-forge | (default, Apr  6 2018, 13:39:56) \n",
      "[GCC 4.8.2 20140120 (Red Hat 4.8.2-15)]\n",
      "NumPy 1.13.3 Pandas 0.23.4 FAME HLI 11.63000 pyhli 0.0.10\n"
     ]
    }
   ],
   "source": [
    "if qm.open_hli()!=0:\n",
    "    raise"
   ]
  },
  {
   "cell_type": "markdown",
   "metadata": {},
   "source": [
    "Read a fame db"
   ]
  },
  {
   "cell_type": "code",
   "execution_count": 3,
   "metadata": {},
   "outputs": [
    {
     "name": "stdout",
     "output_type": "stream",
     "text": [
      "famedata holds 55 entries\n",
      "\n"
     ]
    }
   ],
   "source": [
    "dbname = os.path.join(os.environ['FAME'],'util','driecon')\n",
    "famedata = qm.read_fame(dbname)\n",
    "print(\"famedata holds {0:d} entries\\n\".format(len(famedata)))"
   ]
  },
  {
   "cell_type": "markdown",
   "metadata": {},
   "source": [
    "Display data from python structure `famedata`"
   ]
  },
  {
   "cell_type": "code",
   "execution_count": 4,
   "metadata": {},
   "outputs": [
    {
     "name": "stdout",
     "output_type": "stream",
     "text": [
      "SERIES GDP : PRECISION BY DATE(ANNUAL) 1929 to 2002 -- GROSS DOMESTIC PRODUCT\n",
      "GROSS DOMESTIC PRODUCT\n",
      "BILLIONS OF CURRENT DOLLARS\n",
      "U.S. DEPARTMENT OF COMMERCE, BUREAU OF ECONOMIC ANALYSIS\n",
      "'SURVEY OF CURRENT BUSINESS' AND OTHER MATERIALS\n",
      "U.S. NATIONAL INCOME & PRODUCT ACCOUNTS - TABLE 1.1,1.3,1.5,1.9\n",
      "\n"
     ]
    }
   ],
   "source": [
    "print(\"{0:s}\".format(qm.meta_to_string(famedata,'GDP')))"
   ]
  },
  {
   "cell_type": "markdown",
   "metadata": {},
   "source": [
    "Write a fame db"
   ]
  },
  {
   "cell_type": "code",
   "execution_count": 5,
   "metadata": {},
   "outputs": [],
   "source": [
    "qm.write_fame(\"mycopy\",famedata)"
   ]
  },
  {
   "cell_type": "markdown",
   "metadata": {},
   "source": [
    "Peek at new db using 4GL"
   ]
  },
  {
   "cell_type": "code",
   "execution_count": 6,
   "metadata": {},
   "outputs": [
    {
     "name": "stdout",
     "output_type": "stream",
     "text": [
      "\n",
      "\n",
      "                                  GDP\n",
      "\n",
      "                        GROSS DOMESTIC PRODUCT\n",
      "\n",
      "Class:  SERIES                                     DB name:  MYCOPY\n",
      "Type:   PRECISION                                  Created:  10-Aug-18\n",
      "Index:  DATE:ANNUAL                                Updated:  10-Aug-18\n",
      "\n",
      "First Value at: 1929                               Observed: AVERAGED\n",
      "Last Value at:  2002                               Basis:    DAILY\n",
      "\n",
      "GROSS DOMESTIC PRODUCT\n",
      "BILLIONS OF CURRENT DOLLARS\n",
      "U.S. DEPARTMENT OF COMMERCE, BUREAU OF ECONOMIC ANALYSIS\n",
      "'SURVEY OF CURRENT BUSINESS' AND OTHER MATERIALS\n",
      "U.S. NATIONAL INCOME & PRODUCT ACCOUNTS - TABLE 1.1,1.3,1.5,1.9\n"
     ]
    }
   ],
   "source": [
    "cmd = ['\\\n",
    "  open mycopy; \\\n",
    "  output<acc over>tmp.txt; \\\n",
    "  whats gdp; \\\n",
    "  output terminal; \\\n",
    "  close mycopy\\\n",
    "  ']\n",
    "cfmfame ([-1], cmd)\n",
    "qm.print_file('tmp.txt')"
   ]
  },
  {
   "cell_type": "code",
   "execution_count": 7,
   "metadata": {},
   "outputs": [],
   "source": [
    "qm.close_hli()\n",
    "os.remove(\"mycopy.db\")"
   ]
  }
 ],
 "metadata": {
  "kernelspec": {
   "display_name": "Python 3",
   "language": "python",
   "name": "python3"
  },
  "language_info": {
   "codemirror_mode": {
    "name": "ipython",
    "version": 3
   },
   "file_extension": ".py",
   "mimetype": "text/x-python",
   "name": "python",
   "nbconvert_exporter": "python",
   "pygments_lexer": "ipython3",
   "version": "3.6.5"
  }
 },
 "nbformat": 4,
 "nbformat_minor": 2
}
