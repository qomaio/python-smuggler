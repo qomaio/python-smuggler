{
 "cells": [
  {
   "cell_type": "markdown",
   "metadata": {},
   "source": [
    "# Accessing FAME 4GL from Python\n",
    "This example accesses FAME 4GL functionality from Python."
   ]
  },
  {
   "cell_type": "code",
   "execution_count": 1,
   "metadata": {},
   "outputs": [],
   "source": [
    "import os\n",
    "import sys\n",
    "from __future__ import print_function\n",
    "\n",
    "import pandas as pd\n",
    "from pyhli import *\n",
    "import qoma_smuggler as qm"
   ]
  },
  {
   "cell_type": "markdown",
   "metadata": {},
   "source": [
    "The Qoma utility function `open_hli()` opens the FAME environment and prints diagnostic information.\n",
    "\n",
    "Below we use lower level FAME HLI functions. \n",
    "The `qomautils` package offers higher level composites of FAME HLI functions.  \n",
    "The `qomautils` package function `open_hli()` calls `cfmini()` and `cfmver()` to initialize the FAME \n",
    "environment and to obtain FAME HLI version information."
   ]
  },
  {
   "cell_type": "code",
   "execution_count": 2,
   "metadata": {},
   "outputs": [
    {
     "name": "stdout",
     "output_type": "stream",
     "text": [
      "Linux 4.14.33+ (#1 SMP Wed Jun 20 01:15:52 PDT 2018) x86_64\n",
      "Python 2.7.5 (default, Apr 11 2018, 07:36:10) \n",
      "[GCC 4.8.5 20150623 (Red Hat 4.8.5-28)]\n",
      "NumPy 1.14.5 Pandas 0.23.3 FAME HLI 11.63000 pyhli 0.0.6\n"
     ]
    }
   ],
   "source": [
    "if qm.open_hli()!=0:\n",
    "    raise"
   ]
  },
  {
   "cell_type": "markdown",
   "metadata": {},
   "source": [
    "FAME 4GL commands are easily passed to a FAME server using the FAME HLI function `cfmfame()`.  Here we:\n",
    "*  set a date range to the prior quarter (`date thisday(q)-1`)\n",
    "*  set the frequency to BUSINESS (`freq b`)\n",
    "*  open a data base, instructing FAME to overwrite any existing database named `tmp.db` (`open<acc over>tmp`)\n",
    "*  create a time series x, specifying `double` storage (`series x : precision by date`)\n",
    "*  update the object's decription attribute (`desc(x) = \"U[0,1]\"`)\n",
    "*  update the object's documentation (`docu(x) = \"...\"`)\n",
    "*  use the FAME 4GL function `uniform()` to obtain samples from the uniform distribution indexed by date\n",
    "*  direct FAME 4GL output to a temporary file, overwriting old file if needed (`output<acc over>tmp.txt`)\n",
    "*  set report orientation to VERTICAL (time will appear vertically)\n",
    "*  set report length to FULL (affects report pagination)\n",
    "*  permit automatic time scale conversion (`conv on`)\n",
    "*  request reports at `BUSINESS`, `WEEKLY(FRIDAY)`, `MONTHLY`, and `QUARTERLY` frequency.\n",
    "*  FAME uses the object's OBSERVED attribute to properly reduce business data to lower frequency data.\n",
    "*  instruct the FAME 4GL to close the output file (by directing output to terminal)\n",
    "*  instruct FAME to close the database\n",
    "\n",
    "Upon return to Python, we:\n",
    "*  confirm the FAME HLI function `cfmfame()` returns code `HSUCC` (success)\n",
    "*  display the temporary text file `tmp.txt`"
   ]
  },
  {
   "cell_type": "code",
   "execution_count": 3,
   "metadata": {
    "scrolled": false
   },
   "outputs": [
    {
     "name": "stdout",
     "output_type": "stream",
     "text": [
      "\n",
      "\n",
      "                                   X\n",
      "\n",
      "                                U[0,1]\n",
      "\n",
      "Class:  SERIES                                     DB name:  TMP\n",
      "Type:   PRECISION                                  Created:  31-Jul-18\n",
      "Index:  DATE:BUSINESS                              Updated:  31-Jul-18\n",
      "\n",
      "First Value at:  2-Apr-18                          Observed: SUMMED\n",
      "Last Value at:  29-Jun-18                          Basis:    BUSINESS\n",
      "\n",
      "Uniformly distributed U[0,1] time-series.\n",
      "\n",
      "\n",
      "\n",
      "Frequency BUSINESS\n",
      "\n",
      "\n",
      "              X\n",
      "           ----\n",
      "\n",
      " 2-Apr-18  0.65\n",
      " 3-Apr-18  0.17\n",
      " 4-Apr-18  0.03\n",
      " 5-Apr-18  0.45\n",
      " 6-Apr-18  0.20\n",
      " 9-Apr-18  0.36\n",
      "10-Apr-18  0.53\n",
      "11-Apr-18  0.67\n",
      "12-Apr-18  0.74\n",
      "13-Apr-18  0.73\n",
      "16-Apr-18  0.31\n",
      "17-Apr-18  0.91\n",
      "18-Apr-18  0.50\n",
      "19-Apr-18  0.68\n",
      "20-Apr-18  0.14\n",
      "23-Apr-18  0.82\n",
      "24-Apr-18  0.85\n",
      "25-Apr-18  0.75\n",
      "26-Apr-18  0.83\n",
      "27-Apr-18  0.39\n",
      "30-Apr-18  0.08\n",
      " 1-May-18  0.46\n",
      " 2-May-18  0.17\n",
      " 3-May-18  0.18\n",
      " 4-May-18  0.90\n",
      " 7-May-18  0.44\n",
      " 8-May-18  0.43\n",
      " 9-May-18  0.87\n",
      "10-May-18  0.45\n",
      "11-May-18  0.55\n",
      "14-May-18  0.32\n",
      "15-May-18  0.37\n",
      "16-May-18  0.39\n",
      "17-May-18  0.71\n",
      "18-May-18  0.28\n",
      "21-May-18  0.33\n",
      "22-May-18  0.22\n",
      "23-May-18  0.82\n",
      "24-May-18  0.78\n",
      "25-May-18  0.75\n",
      "28-May-18  0.26\n",
      "29-May-18  0.73\n",
      "30-May-18  0.39\n",
      "31-May-18  0.31\n",
      " 1-Jun-18  0.26\n",
      " 4-Jun-18  0.27\n",
      " 5-Jun-18  0.38\n",
      " 6-Jun-18  0.16\n",
      " 7-Jun-18  0.90\n",
      " 8-Jun-18  0.19\n",
      "11-Jun-18  0.52\n",
      "12-Jun-18  0.50\n",
      "13-Jun-18  0.66\n",
      "14-Jun-18  0.41\n",
      "15-Jun-18  0.37\n",
      "18-Jun-18  0.26\n",
      "19-Jun-18  0.17\n",
      "20-Jun-18  0.59\n",
      "21-Jun-18  0.72\n",
      "22-Jun-18  0.78\n",
      "25-Jun-18  0.53\n",
      "26-Jun-18  0.61\n",
      "27-Jun-18  0.21\n",
      "28-Jun-18  0.69\n",
      "29-Jun-18  0.54\n",
      "\n",
      "\n",
      "\n",
      "\n",
      "\n",
      "\n",
      "Frequency WEEKLY(FRIDAY)\n",
      "\n",
      "\n",
      "              X\n",
      "           ----\n",
      "\n",
      "13-Apr-18  3.03\n",
      "20-Apr-18  2.55\n",
      "27-Apr-18  3.63\n",
      " 4-May-18  1.78\n",
      "11-May-18  2.75\n",
      "18-May-18  2.06\n",
      "25-May-18  2.90\n",
      " 1-Jun-18  1.94\n",
      " 8-Jun-18  1.90\n",
      "15-Jun-18  2.47\n",
      "22-Jun-18  2.52\n",
      "29-Jun-18  2.59\n",
      "\n",
      "\n",
      "\n",
      "\n",
      "\n",
      "\n",
      "Frequency MONTHLY\n",
      "\n",
      "\n",
      "            X\n",
      "        -----\n",
      "\n",
      "Apr 18  10.78\n",
      "May 18  11.10\n",
      "Jun 18   9.74\n",
      "\n",
      "\n",
      "\n",
      "\n",
      "\n",
      "\n",
      "Frequency QUARTERLY\n",
      "\n",
      "\n",
      "          X\n",
      "      -----\n",
      "\n",
      "18:2  31.62\n",
      "\n",
      "\n",
      "\n"
     ]
    }
   ],
   "source": [
    "cmd = ['\\\n",
    "  date thisday(q)-1; \\\n",
    "  freq b; \\\n",
    "  open<acc over>tmp; \\\n",
    "  series x : precision by date; \\\n",
    "  desc(x) = \"U[0,1]\"; \\\n",
    "  docu(x) = \"Uniformly distributed U[0,1] time-series.\"; \\\n",
    "  set x = uniform(date); \\\n",
    "  output<acc over>tmp.txt; \\\n",
    "  whats x; \\\n",
    "  show vert; length full; conv on;\\\n",
    "  freq b; title text \"Frequency \"+@freq; repo x; \\\n",
    "  freq w(fri); title text \"Frequency \"+@freq; repo x; \\\n",
    "  freq m; title text \"Frequency \"+@freq; repo x; \\\n",
    "  freq q; title text \"Frequency \"+@freq; repo x; \\\n",
    "  output terminal; \\\n",
    "  close tmp\\\n",
    "  ']\n",
    "cfmfame ([-1], cmd)\n",
    "qm.print_file('tmp.txt')"
   ]
  },
  {
   "cell_type": "markdown",
   "metadata": {},
   "source": [
    "The `qomautils` function `read_fame()` reads FAME data objects into a nested Python dictionary.  \n",
    "At the top level, each FAME object name is mapped to a dictionary with entries `data` and `fame`.  \n",
    "*  As appropriate, the entry `data` maps to a single data value or to multiple data values in an array.  \n",
    "    *  For FAME `SCALAR` objects, `data` maps to a value. \n",
    "    *  For FAME `SERIES` objects, `data` maps to an array of values.\n",
    "*  The entry `fame` maps to FAME object meta data such as object class (`SCALAR` or `SERIES`), object data type, and index values for `data`.\n",
    "\n",
    "We will use the `tmp` database constructed above."
   ]
  },
  {
   "cell_type": "code",
   "execution_count": 4,
   "metadata": {},
   "outputs": [
    {
     "name": "stdout",
     "output_type": "stream",
     "text": [
      "read_fame() returned 1 FAME objects from tmp.\n",
      "\n"
     ]
    }
   ],
   "source": [
    "dbname = \"tmp\"\n",
    "famedata = qm.read_fame(dbname)\n",
    "print(\"read_fame() returned {0} FAME objects from {1}.\\n\".format(len(famedata),dbname))"
   ]
  },
  {
   "cell_type": "markdown",
   "metadata": {},
   "source": [
    "Once FAME data objects are loaded to a Python dictionary, it is easy to access information.  First, a peek at the top level contents of the dictionary for the FAME data object `X` we constructed earlier in this notebook."
   ]
  },
  {
   "cell_type": "code",
   "execution_count": 5,
   "metadata": {},
   "outputs": [
    {
     "name": "stdout",
     "output_type": "stream",
     "text": [
      "data:\n",
      "[0.6467646956443787, 0.1743934601545334, 0.03084705024957657, 0.4463737905025482, 0.2042222023010254, 0.36261826753616333, 0.5254757404327393, 0.6711335778236389, 0.7420555353164673, 0.7278105020523071, 0.31099629402160645, 0.9147082567214966, 0.5012004971504211, 0.676274299621582, 0.14207294583320618, 0.8199469447135925, 0.8483218550682068, 0.7456908822059631, 0.8264048099517822, 0.38549861311912537, 0.07541284710168839, 0.4637452960014343, 0.16738136112689972, 0.17849081754684448, 0.8950701355934143, 0.44424551725387573, 0.43421629071235657, 0.8734127283096313, 0.4474654495716095, 0.5516344308853149, 0.32012683153152466, 0.3715348243713379, 0.3859526515007019, 0.706091582775116, 0.2810337543487549, 0.33410021662712097, 0.22251564264297485, 0.820478081703186, 0.7750786542892456, 0.7468469738960266, 0.25690045952796936, 0.7259705066680908, 0.38640516996383667, 0.3116711378097534, 0.2566356062889099, 0.27455082535743713, 0.37556740641593933, 0.1613556146621704, 0.9038012623786926, 0.1873934268951416, 0.5212411880493164, 0.5009020566940308, 0.6610586047172546, 0.4120529294013977, 0.37343114614486694, 0.257284015417099, 0.1722847819328308, 0.5902138948440552, 0.7249822020530701, 0.7761964797973633, 0.5339211225509644, 0.6127335429191589, 0.21221452951431274, 0.6896852850914001, 0.5408032536506653]\n",
      "\n",
      "fame:\n",
      "{'mdate': 1217532579666, 'basis': 9, 'cdate': 1217532579663, 'docu': u'Uniformly distributed U[0,1] time-series.', 'range': [9, 43895, 43959], 'observ': 4, 'type': 5, 'class': 1, 'desc': u'U[0,1]'}\n",
      "\n"
     ]
    }
   ],
   "source": [
    "x = famedata.get('X')\n",
    "print(\"data:\\n{0}\\n\".format(x.get('data')))\n",
    "print(\"fame:\\n{0}\\n\".format(x.get('fame')))"
   ]
  },
  {
   "cell_type": "markdown",
   "metadata": {},
   "source": [
    "The meta data contained in the `fame` Python dictionary specifies things such as the date range of the `data`."
   ]
  },
  {
   "cell_type": "code",
   "execution_count": 6,
   "metadata": {},
   "outputs": [
    {
     "name": "stdout",
     "output_type": "stream",
     "text": [
      "pandas range:\n",
      "DatetimeIndex(['2018-04-02', '2018-04-03', '2018-04-04', '2018-04-05',\n",
      "               '2018-04-06', '2018-04-09', '2018-04-10', '2018-04-11',\n",
      "               '2018-04-12', '2018-04-13', '2018-04-16', '2018-04-17',\n",
      "               '2018-04-18', '2018-04-19', '2018-04-20', '2018-04-23',\n",
      "               '2018-04-24', '2018-04-25', '2018-04-26', '2018-04-27',\n",
      "               '2018-04-30', '2018-05-01', '2018-05-02', '2018-05-03',\n",
      "               '2018-05-04', '2018-05-07', '2018-05-08', '2018-05-09',\n",
      "               '2018-05-10', '2018-05-11', '2018-05-14', '2018-05-15',\n",
      "               '2018-05-16', '2018-05-17', '2018-05-18', '2018-05-21',\n",
      "               '2018-05-22', '2018-05-23', '2018-05-24', '2018-05-25',\n",
      "               '2018-05-28', '2018-05-29', '2018-05-30', '2018-05-31',\n",
      "               '2018-06-01', '2018-06-04', '2018-06-05', '2018-06-06',\n",
      "               '2018-06-07', '2018-06-08', '2018-06-11', '2018-06-12',\n",
      "               '2018-06-13', '2018-06-14', '2018-06-15', '2018-06-18',\n",
      "               '2018-06-19', '2018-06-20', '2018-06-21', '2018-06-22',\n",
      "               '2018-06-25', '2018-06-26', '2018-06-27', '2018-06-28',\n",
      "               '2018-06-29'],\n",
      "              dtype='datetime64[ns]', freq='B')\n",
      "\n",
      "description     U[0,1]\n",
      "documentation   Uniformly distributed U[0,1] time-series.\n",
      "fame class      SERIES\n",
      "fame data type  PRECISION\n",
      "\n"
     ]
    }
   ],
   "source": [
    "meta = x.get('fame')\n",
    "rng = meta.get('range')\n",
    "print(\"pandas range:\\n{0}\\n\".format(qm.to_pandas_range(rng)))\n",
    "print(\"description     {0}\".format(meta.get('desc')))\n",
    "print(\"documentation   {0}\".format(meta.get('docu')))\n",
    "print(\"fame class      {0}\".format(qm.class_to_string(meta.get('class'))))\n",
    "print(\"fame data type  {0}\\n\".format(qm.type_to_string(meta.get('type'))))"
   ]
  },
  {
   "cell_type": "code",
   "execution_count": 7,
   "metadata": {},
   "outputs": [
    {
     "name": "stdout",
     "output_type": "stream",
     "text": [
      "SERIES X : PRECISION BY DATE(BUSINESS) 2Apr2018 to 29Jun2018 -- U[0,1]\n",
      "Uniformly distributed U[0,1] time-series.\n",
      "\n"
     ]
    },
    {
     "data": {
      "text/plain": [
       "2018-04-02    0.646765\n",
       "2018-04-03    0.174393\n",
       "2018-04-04    0.030847\n",
       "2018-04-05    0.446374\n",
       "2018-04-06    0.204222\n",
       "2018-04-09    0.362618\n",
       "2018-04-10    0.525476\n",
       "2018-04-11    0.671134\n",
       "2018-04-12    0.742056\n",
       "2018-04-13    0.727811\n",
       "2018-04-16    0.310996\n",
       "2018-04-17    0.914708\n",
       "2018-04-18    0.501200\n",
       "2018-04-19    0.676274\n",
       "2018-04-20    0.142073\n",
       "2018-04-23    0.819947\n",
       "2018-04-24    0.848322\n",
       "2018-04-25    0.745691\n",
       "2018-04-26    0.826405\n",
       "2018-04-27    0.385499\n",
       "2018-04-30    0.075413\n",
       "2018-05-01    0.463745\n",
       "2018-05-02    0.167381\n",
       "2018-05-03    0.178491\n",
       "2018-05-04    0.895070\n",
       "2018-05-07    0.444246\n",
       "2018-05-08    0.434216\n",
       "2018-05-09    0.873413\n",
       "2018-05-10    0.447465\n",
       "2018-05-11    0.551634\n",
       "                ...   \n",
       "2018-05-21    0.334100\n",
       "2018-05-22    0.222516\n",
       "2018-05-23    0.820478\n",
       "2018-05-24    0.775079\n",
       "2018-05-25    0.746847\n",
       "2018-05-28    0.256900\n",
       "2018-05-29    0.725971\n",
       "2018-05-30    0.386405\n",
       "2018-05-31    0.311671\n",
       "2018-06-01    0.256636\n",
       "2018-06-04    0.274551\n",
       "2018-06-05    0.375567\n",
       "2018-06-06    0.161356\n",
       "2018-06-07    0.903801\n",
       "2018-06-08    0.187393\n",
       "2018-06-11    0.521241\n",
       "2018-06-12    0.500902\n",
       "2018-06-13    0.661059\n",
       "2018-06-14    0.412053\n",
       "2018-06-15    0.373431\n",
       "2018-06-18    0.257284\n",
       "2018-06-19    0.172285\n",
       "2018-06-20    0.590214\n",
       "2018-06-21    0.724982\n",
       "2018-06-22    0.776196\n",
       "2018-06-25    0.533921\n",
       "2018-06-26    0.612734\n",
       "2018-06-27    0.212215\n",
       "2018-06-28    0.689685\n",
       "2018-06-29    0.540803\n",
       "Freq: B, Name: X, Length: 65, dtype: float64"
      ]
     },
     "execution_count": 7,
     "metadata": {},
     "output_type": "execute_result"
    }
   ],
   "source": [
    "print(qm.meta_to_string(famedata,'X'))\n",
    "qm.get(famedata,'X')"
   ]
  },
  {
   "cell_type": "code",
   "execution_count": 8,
   "metadata": {},
   "outputs": [],
   "source": [
    "if qm.close_hli()!=0:\n",
    "    raise"
   ]
  },
  {
   "cell_type": "code",
   "execution_count": 9,
   "metadata": {},
   "outputs": [],
   "source": [
    "os.remove(\"tmp.txt\")\n",
    "os.remove(\"tmp.db\")"
   ]
  },
  {
   "cell_type": "code",
   "execution_count": null,
   "metadata": {},
   "outputs": [],
   "source": []
  }
 ],
 "metadata": {
  "kernelspec": {
   "display_name": "Python 2",
   "language": "python",
   "name": "python2"
  },
  "language_info": {
   "codemirror_mode": {
    "name": "ipython",
    "version": 2
   },
   "file_extension": ".py",
   "mimetype": "text/x-python",
   "name": "python",
   "nbconvert_exporter": "python",
   "pygments_lexer": "ipython2",
   "version": "2.7.5"
  }
 },
 "nbformat": 4,
 "nbformat_minor": 2
}
