{
 "cells": [
  {
   "cell_type": "code",
   "execution_count": 1,
   "metadata": {},
   "outputs": [],
   "source": [
    "import os\n",
    "import sys\n",
    "from __future__ import print_function\n",
    "\n",
    "\n",
    "import numpy as np\n",
    "import pandas as pd\n",
    "from pyhli import *\n",
    "import qoma_smuggler as qm"
   ]
  },
  {
   "cell_type": "markdown",
   "metadata": {},
   "source": [
    "The Qoma utility function `open_hli()` opens the FAME environment and prints diagnostic information."
   ]
  },
  {
   "cell_type": "code",
   "execution_count": 2,
   "metadata": {},
   "outputs": [
    {
     "name": "stdout",
     "output_type": "stream",
     "text": [
      "\n",
      "Linux 4.9.0-4-amd64 (#1 SMP Debian 4.9.65-3+deb9u1 (2017-12-23)) x86_64\n",
      "Python 3.6.5 | packaged by conda-forge | (default, Apr  6 2018, 13:39:56) \n",
      "[GCC 4.8.2 20140120 (Red Hat 4.8.2-15)]\n",
      "NumPy 1.13.3 Pandas 0.23.4 FAME HLI 11.63000 pyhli 0.0.11\n"
     ]
    }
   ],
   "source": [
    "if qm.open_hli()!=0:\n",
    "    raise"
   ]
  },
  {
   "cell_type": "markdown",
   "metadata": {},
   "source": [
    "Create a time series with five hourly observations starting midnight January 1st, 2020:"
   ]
  },
  {
   "cell_type": "code",
   "execution_count": 3,
   "metadata": {},
   "outputs": [],
   "source": [
    "rng = pd.date_range('1/1/2020', periods=5, freq='D')\n",
    "ts = pd.Series(np.random.randn(len(rng)), index=rng)"
   ]
  },
  {
   "cell_type": "markdown",
   "metadata": {},
   "source": [
    "Create a Python dictionary, and place the time series in the dictionary with key 'TS'."
   ]
  },
  {
   "cell_type": "code",
   "execution_count": 4,
   "metadata": {},
   "outputs": [],
   "source": [
    "db_dict = dict()\n",
    "qm.put(db_dict,'TS',ts)"
   ]
  },
  {
   "cell_type": "markdown",
   "metadata": {},
   "source": [
    "Take a peek at the Python dictionary contents, then write the contents of the Python dictionary to a FAME database."
   ]
  },
  {
   "cell_type": "code",
   "execution_count": 5,
   "metadata": {},
   "outputs": [
    {
     "name": "stdout",
     "output_type": "stream",
     "text": [
      "SERIES TS : PRECISION BY DATE(DAILY) 1Jan2020 to 5Jan2020\n",
      "\n"
     ]
    }
   ],
   "source": [
    "qm.print_catalog(db_dict)\n",
    "qm.write_fame(\"mydb\",db_dict)"
   ]
  },
  {
   "cell_type": "markdown",
   "metadata": {},
   "source": [
    "Display the series using Python."
   ]
  },
  {
   "cell_type": "code",
   "execution_count": 6,
   "metadata": {},
   "outputs": [
    {
     "name": "stdout",
     "output_type": "stream",
     "text": [
      "{'data': 2020-01-01   -0.863027\n",
      "2020-01-02    0.701938\n",
      "2020-01-03    0.767945\n",
      "2020-01-04   -1.483270\n",
      "2020-01-05   -1.723871\n",
      "Freq: D, dtype: float64, 'fame': {'range': [8, 62092, 62096], 'class': 1, 'type': 5, 'basis': 2, 'observ': 2}}\n"
     ]
    }
   ],
   "source": [
    "print(db_dict['TS'])"
   ]
  },
  {
   "cell_type": "markdown",
   "metadata": {},
   "source": [
    "Display the series using FAME 4GL."
   ]
  },
  {
   "cell_type": "code",
   "execution_count": 7,
   "metadata": {},
   "outputs": [
    {
     "name": "stdout",
     "output_type": "stream",
     "text": [
      "\n",
      "\n",
      "                                  TS\n",
      "\n",
      "Class:  SERIES                                     DB name:  MYDB\n",
      "Type:   PRECISION                                  Created:  15-Aug-18\n",
      "Index:  DATE:DAILY                                 Updated:  15-Aug-18\n",
      "\n",
      "First Value at:  1-Jan-20                          Observed: END\n",
      "Last Value at:   5-Jan-20                          Basis:    BUSINESS\n",
      "\n",
      "TS\n",
      "\n",
      " 1-Jan-20     -0.86\n",
      " 2-Jan-20      0.70\n",
      " 3-Jan-20      0.77\n",
      " 4-Jan-20     -1.48\n",
      " 5-Jan-20     -1.72\n",
      "\n",
      "\n"
     ]
    }
   ],
   "source": [
    "cmd = ['\\\n",
    "  open<acc read> mydb; \\\n",
    "  output<acc over> mydb.txt; \\\n",
    "  whats ts;\\\n",
    "  display ts;\\\n",
    "  ']\n",
    "cfmfame ([-1], cmd)\n",
    "qm.print_file('mydb.txt')"
   ]
  },
  {
   "cell_type": "markdown",
   "metadata": {},
   "source": [
    "The Qoma utility function `close_hli()` closes the FAME environment."
   ]
  },
  {
   "cell_type": "code",
   "execution_count": 8,
   "metadata": {},
   "outputs": [],
   "source": [
    "if qm.close_hli()!=0:\n",
    "    raise"
   ]
  },
  {
   "cell_type": "code",
   "execution_count": 9,
   "metadata": {},
   "outputs": [],
   "source": [
    "os.remove(\"mydb.txt\")\n",
    "os.remove(\"mydb.db\")"
   ]
  }
 ],
 "metadata": {
  "kernelspec": {
   "display_name": "Python 3",
   "language": "python",
   "name": "python3"
  },
  "language_info": {
   "codemirror_mode": {
    "name": "ipython",
    "version": 3
   },
   "file_extension": ".py",
   "mimetype": "text/x-python",
   "name": "python",
   "nbconvert_exporter": "python",
   "pygments_lexer": "ipython3",
   "version": "3.6.5"
  }
 },
 "nbformat": 4,
 "nbformat_minor": 2
}
