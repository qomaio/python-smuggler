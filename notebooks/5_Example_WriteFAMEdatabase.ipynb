{
 "cells": [
  {
   "cell_type": "code",
   "execution_count": 1,
   "metadata": {},
   "outputs": [],
   "source": [
    "import os\n",
    "import sys\n",
    "from __future__ import print_function\n",
    "\n",
    "\n",
    "import numpy as np\n",
    "import pandas as pd\n",
    "from pyhli import *\n",
    "import qoma_smuggler as qm"
   ]
  },
  {
   "cell_type": "markdown",
   "metadata": {},
   "source": [
    "The Qoma utility function `open_hli()` opens the FAME environment and prints diagnostic information."
   ]
  },
  {
   "cell_type": "code",
   "execution_count": 2,
   "metadata": {},
   "outputs": [
    {
     "name": "stdout",
     "output_type": "stream",
     "text": [
      "Linux 4.14.33+ (#1 SMP Wed Jun 20 01:15:52 PDT 2018) x86_64\n",
      "Python 2.7.5 (default, Apr 11 2018, 07:36:10) \n",
      "[GCC 4.8.5 20150623 (Red Hat 4.8.5-28)]\n",
      "NumPy 1.14.5 Pandas 0.23.3 FAME HLI 11.63000 pyhli 0.0.6\n"
     ]
    }
   ],
   "source": [
    "if qm.open_hli()!=0:\n",
    "    raise"
   ]
  },
  {
   "cell_type": "markdown",
   "metadata": {},
   "source": [
    "Create a time series with five hourly observations starting midnight January 1st, 2020:"
   ]
  },
  {
   "cell_type": "code",
   "execution_count": 3,
   "metadata": {},
   "outputs": [],
   "source": [
    "rng = pd.date_range('1/1/2020', periods=5, freq='H')\n",
    "ts = pd.Series(np.random.randn(len(rng)), index=rng)"
   ]
  },
  {
   "cell_type": "markdown",
   "metadata": {},
   "source": [
    "Create a Python dictionary, and place the time series in the dictionary with key 'TS'."
   ]
  },
  {
   "cell_type": "code",
   "execution_count": 4,
   "metadata": {},
   "outputs": [],
   "source": [
    "db_dict = dict()\n",
    "qm.put(db_dict,'TS',ts)"
   ]
  },
  {
   "cell_type": "markdown",
   "metadata": {},
   "source": [
    "Take a peek at the Python dictionary contents, then write the contents of the Python dictionary to a FAME database."
   ]
  },
  {
   "cell_type": "code",
   "execution_count": 5,
   "metadata": {},
   "outputs": [
    {
     "name": "stdout",
     "output_type": "stream",
     "text": [
      "SERIES TS : PRECISION BY DATE(HOURLY) 1Jan2020:00 to 1Jan2020:04\n",
      "\n"
     ]
    }
   ],
   "source": [
    "qm.print_catalog(db_dict)\n",
    "qm.write_fame(\"mydb\",db_dict)"
   ]
  },
  {
   "cell_type": "markdown",
   "metadata": {},
   "source": [
    "Display the series using Python."
   ]
  },
  {
   "cell_type": "code",
   "execution_count": 6,
   "metadata": {},
   "outputs": [
    {
     "name": "stdout",
     "output_type": "stream",
     "text": [
      "{'data': 2020-01-01 00:00:00    1.982837\n",
      "2020-01-01 01:00:00   -0.087601\n",
      "2020-01-01 02:00:00    0.225261\n",
      "2020-01-01 03:00:00    0.238526\n",
      "2020-01-01 04:00:00    1.193292\n",
      "Freq: H, dtype: float64, 'fame': {'range': [228, 350641, 350645], 'observ': 2, 'type': 5, 'class': 1, 'basis': 2}}\n"
     ]
    }
   ],
   "source": [
    "print(db_dict['TS'])"
   ]
  },
  {
   "cell_type": "markdown",
   "metadata": {},
   "source": [
    "Display the series using FAME 4GL."
   ]
  },
  {
   "cell_type": "code",
   "execution_count": 7,
   "metadata": {},
   "outputs": [
    {
     "name": "stdout",
     "output_type": "stream",
     "text": [
      "\n",
      "\n",
      "                                  TS\n",
      "\n",
      "Class:  SERIES                                     DB name:  MYDB\n",
      "Type:   PRECISION                                  Created:  31-Jul-18\n",
      "Index:  DATE:HOURLY                                Updated:  31-Jul-18\n",
      "\n",
      "First Value at:  1-Jan-20 00:00                    Observed: END\n",
      "Last Value at:   1-Jan-20 04:00                    Basis:    BUSINESS\n",
      "\n",
      "TS\n",
      "\n",
      " 1-Jan-20 00:00      1.98\n",
      " 1-Jan-20 01:00     -0.09\n",
      " 1-Jan-20 02:00      0.23\n",
      " 1-Jan-20 03:00      0.24\n",
      " 1-Jan-20 04:00      1.19\n",
      "\n",
      "\n"
     ]
    }
   ],
   "source": [
    "cmd = ['\\\n",
    "  open<acc read> mydb; \\\n",
    "  output<acc over> mydb.txt; \\\n",
    "  whats ts;\\\n",
    "  display ts;\\\n",
    "  ']\n",
    "cfmfame ([-1], cmd)\n",
    "qm.print_file('mydb.txt')"
   ]
  },
  {
   "cell_type": "markdown",
   "metadata": {},
   "source": [
    "The Qoma utility function `close_hli()` closes the FAME environment."
   ]
  },
  {
   "cell_type": "code",
   "execution_count": 8,
   "metadata": {},
   "outputs": [],
   "source": [
    "if qm.close_hli()!=0:\n",
    "    raise"
   ]
  },
  {
   "cell_type": "code",
   "execution_count": 9,
   "metadata": {},
   "outputs": [],
   "source": [
    "os.remove(\"mydb.txt\")\n",
    "os.remove(\"mydb.db\")"
   ]
  }
 ],
 "metadata": {
  "kernelspec": {
   "display_name": "Python 2",
   "language": "python",
   "name": "python2"
  },
  "language_info": {
   "codemirror_mode": {
    "name": "ipython",
    "version": 2
   },
   "file_extension": ".py",
   "mimetype": "text/x-python",
   "name": "python",
   "nbconvert_exporter": "python",
   "pygments_lexer": "ipython2",
   "version": "2.7.5"
  }
 },
 "nbformat": 4,
 "nbformat_minor": 2
}
