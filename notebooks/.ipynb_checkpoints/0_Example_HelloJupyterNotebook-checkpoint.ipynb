{
 "cells": [
  {
   "cell_type": "markdown",
   "metadata": {},
   "source": [
    "# Using the FAME HLI from Python\n",
    "This is a quick example using the low level FAME HLI as exposed by the `pyhli` package.\n",
    "\n",
    "The entire [FAME HLI](https://fame.sungard.com/support_secure/fame/online_help_116/) is available through the `pyhli` package.  See the FIS MarketMap Analytic Platform support website for more information on using the FAME HLI."
   ]
  },
  {
   "cell_type": "code",
   "execution_count": null,
   "metadata": {},
   "outputs": [],
   "source": [
    "from pyhli import *\n",
    "from __future__ import print_function\n",
    "\n",
    "\n",
    "# initialize the C HLI\n",
    "status = [-1]\n",
    "cfmini(status)\n",
    "print (\"cfmini(status) status = {}\".format(status[0]))\n",
    "\n",
    "# Get the C HLI version number\n",
    "ver = [0.0]\n",
    "cfmver(status, ver)\n",
    "print (\"cfmver(status,ver) \",\\\n",
    "\"status = {0} ver = {1:.5f}\\n\".format(status[0], ver[0]))\n",
    "\n",
    "# say HELLO !\n",
    "print (\"FIS MarketMap Analytic Platform\\n\",\\\n",
    "\"\\tHello World from Python!\\n\")\n",
    "\n",
    "# Finish the C HLI\n",
    "cfmfin(status)\n",
    "print(\"cfmfin(status) status = {}\\n\".format(status[0]))"
   ]
  }
 ],
 "metadata": {
  "kernelspec": {
   "display_name": "Python 3",
   "language": "python",
   "name": "python3"
  },
  "language_info": {
   "codemirror_mode": {
    "name": "ipython",
    "version": 3
   },
   "file_extension": ".py",
   "mimetype": "text/x-python",
   "name": "python",
   "nbconvert_exporter": "python",
   "pygments_lexer": "ipython3",
   "version": "3.6.5"
  }
 },
 "nbformat": 4,
 "nbformat_minor": 2
}
