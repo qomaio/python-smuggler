{
 "cells": [
  {
   "cell_type": "markdown",
   "metadata": {},
   "source": [
    "# Accessing FAME 4GL from Python\n",
    "This example accesses FAME 4GL functionality from Python."
   ]
  },
  {
   "cell_type": "code",
   "execution_count": null,
   "metadata": {},
   "outputs": [],
   "source": [
    "import os\n",
    "import sys\n",
    "from __future__ import print_function\n",
    "\n",
    "import pandas as pd\n",
    "from pyhli import *\n",
    "import qoma_smuggler as qm"
   ]
  },
  {
   "cell_type": "markdown",
   "metadata": {},
   "source": [
    "The Qoma utility function `open_hli()` opens the FAME environment and prints diagnostic information.\n",
    "\n",
    "Below we use lower level FAME HLI functions. \n",
    "The `qomautils` package offers higher level composites of FAME HLI functions.  \n",
    "The `qomautils` package function `open_hli()` calls `cfmini()` and `cfmver()` to initialize the FAME \n",
    "environment and to obtain FAME HLI version information."
   ]
  },
  {
   "cell_type": "code",
   "execution_count": null,
   "metadata": {},
   "outputs": [],
   "source": [
    "if qm.open_hli()!=0:\n",
    "    raise"
   ]
  },
  {
   "cell_type": "markdown",
   "metadata": {},
   "source": [
    "FAME 4GL commands are easily passed to a FAME server using the FAME HLI function `cfmfame()`.  Here we:\n",
    "*  set a date range to the prior quarter (`date thisday(q)-1`)\n",
    "*  set the frequency to BUSINESS (`freq b`)\n",
    "*  open a data base, instructing FAME to overwrite any existing database named `tmp.db` (`open<acc over>tmp`)\n",
    "*  create a time series x, specifying `double` storage (`series x : precision by date`)\n",
    "*  update the object's decription attribute (`desc(x) = \"U[0,1]\"`)\n",
    "*  update the object's documentation (`docu(x) = \"...\"`)\n",
    "*  use the FAME 4GL function `uniform()` to obtain samples from the uniform distribution indexed by date\n",
    "*  direct FAME 4GL output to a temporary file, overwriting old file if needed (`output<acc over>tmp.txt`)\n",
    "*  set report orientation to VERTICAL (time will appear vertically)\n",
    "*  set report length to FULL (affects report pagination)\n",
    "*  permit automatic time scale conversion (`conv on`)\n",
    "*  request reports at `BUSINESS`, `WEEKLY(FRIDAY)`, `MONTHLY`, and `QUARTERLY` frequency.\n",
    "*  FAME uses the object's OBSERVED attribute to properly reduce business data to lower frequency data.\n",
    "*  instruct the FAME 4GL to close the output file (by directing output to terminal)\n",
    "*  instruct FAME to close the database\n",
    "\n",
    "Upon return to Python, we:\n",
    "*  confirm the FAME HLI function `cfmfame()` returns code `HSUCC` (success)\n",
    "*  display the temporary text file `tmp.txt`"
   ]
  },
  {
   "cell_type": "code",
   "execution_count": null,
   "metadata": {
    "scrolled": false
   },
   "outputs": [],
   "source": [
    "cmd = ['\\\n",
    "  date thisday(q)-1; \\\n",
    "  freq b; \\\n",
    "  open<acc over>tmp; \\\n",
    "  series x : precision by date; \\\n",
    "  desc(x) = \"U[0,1]\"; \\\n",
    "  docu(x) = \"Uniformly distributed U[0,1] time-series.\"; \\\n",
    "  set x = uniform(date); \\\n",
    "  output<acc over>tmp.txt; \\\n",
    "  whats x; \\\n",
    "  show vert; length full; conv on;\\\n",
    "  freq b; title text \"Frequency \"+@freq; repo x; \\\n",
    "  freq w(fri); title text \"Frequency \"+@freq; repo x; \\\n",
    "  freq m; title text \"Frequency \"+@freq; repo x; \\\n",
    "  freq q; title text \"Frequency \"+@freq; repo x; \\\n",
    "  output terminal; \\\n",
    "  close tmp\\\n",
    "  ']\n",
    "cfmfame ([-1], cmd)\n",
    "qm.print_file('tmp.txt')"
   ]
  },
  {
   "cell_type": "markdown",
   "metadata": {},
   "source": [
    "The `qomautils` function `read_fame()` reads FAME data objects into a nested Python dictionary.  \n",
    "At the top level, each FAME object name is mapped to a dictionary with entries `data` and `fame`.  \n",
    "*  As appropriate, the entry `data` maps to a single data value or to multiple data values in an array.  \n",
    "    *  For FAME `SCALAR` objects, `data` maps to a value. \n",
    "    *  For FAME `SERIES` objects, `data` maps to an array of values.\n",
    "*  The entry `fame` maps to FAME object meta data such as object class (`SCALAR` or `SERIES`), object data type, and index values for `data`.\n",
    "\n",
    "We will use the `tmp` database constructed above."
   ]
  },
  {
   "cell_type": "code",
   "execution_count": null,
   "metadata": {},
   "outputs": [],
   "source": [
    "dbname = \"tmp\"\n",
    "famedata = qm.read_fame(dbname)\n",
    "print(\"read_fame() returned {0} FAME objects from {1}.\\n\".format(len(famedata),dbname))"
   ]
  },
  {
   "cell_type": "markdown",
   "metadata": {},
   "source": [
    "Once FAME data objects are loaded to a Python dictionary, it is easy to access information.  First, a peek at the top level contents of the dictionary for the FAME data object `X` we constructed earlier in this notebook."
   ]
  },
  {
   "cell_type": "code",
   "execution_count": null,
   "metadata": {},
   "outputs": [],
   "source": [
    "x = famedata.get('X')\n",
    "print(\"data:\\n{0}\\n\".format(x.get('data')))\n",
    "print(\"fame:\\n{0}\\n\".format(x.get('fame')))"
   ]
  },
  {
   "cell_type": "markdown",
   "metadata": {},
   "source": [
    "The meta data contained in the `fame` Python dictionary specifies things such as the date range of the `data`."
   ]
  },
  {
   "cell_type": "code",
   "execution_count": null,
   "metadata": {},
   "outputs": [],
   "source": [
    "meta = x.get('fame')\n",
    "rng = meta.get('range')\n",
    "print(\"pandas range:\\n{0}\\n\".format(qm.to_pandas_range(rng)))\n",
    "print(\"description     {0}\".format(meta.get('desc')))\n",
    "print(\"documentation   {0}\".format(meta.get('docu')))\n",
    "print(\"fame class      {0}\".format(qm.class_to_string(meta.get('class'))))\n",
    "print(\"fame data type  {0}\\n\".format(qm.type_to_string(meta.get('type'))))"
   ]
  },
  {
   "cell_type": "code",
   "execution_count": null,
   "metadata": {},
   "outputs": [],
   "source": [
    "print(qm.meta_to_string(famedata,'X'))\n",
    "qm.get(famedata,'X')"
   ]
  },
  {
   "cell_type": "code",
   "execution_count": null,
   "metadata": {},
   "outputs": [],
   "source": [
    "if qm.close_hli()!=0:\n",
    "    raise"
   ]
  },
  {
   "cell_type": "code",
   "execution_count": null,
   "metadata": {},
   "outputs": [],
   "source": [
    "os.remove(\"tmp.txt\")\n",
    "os.remove(\"tmp.db\")"
   ]
  },
  {
   "cell_type": "code",
   "execution_count": null,
   "metadata": {},
   "outputs": [],
   "source": []
  }
 ],
 "metadata": {
  "kernelspec": {
   "display_name": "Python 3",
   "language": "python",
   "name": "python3"
  },
  "language_info": {
   "codemirror_mode": {
    "name": "ipython",
    "version": 3
   },
   "file_extension": ".py",
   "mimetype": "text/x-python",
   "name": "python",
   "nbconvert_exporter": "python",
   "pygments_lexer": "ipython3",
   "version": "3.6.5"
  }
 },
 "nbformat": 4,
 "nbformat_minor": 2
}
