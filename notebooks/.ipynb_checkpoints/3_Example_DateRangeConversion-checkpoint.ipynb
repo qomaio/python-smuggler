{
 "cells": [
  {
   "cell_type": "markdown",
   "metadata": {},
   "source": [
    "# Pandas and FAME date ranges\n",
    "\n",
    "Pandas and FAME represent date ranges differently.  This notebook illustrates converting from FAME range to Pandas range using  Qoma utilities package `qomautils`.\n",
    "\n",
    "This notebook utilizes FAME HLI (host language interface) function `fame_current_tme()` exposed by the `pyhli` package to obtain current date at various frequencies: current business day, current hour, current minute, ...\n",
    "\n",
    "The test performed below for a variety of FAME frequencies is:\n",
    "*  convert the FAME `[]int` range to Pandas `DatetimeIndex`\n",
    "*  convert the Pandas  `DatetimeIndex` back to FAME `[]int` range\n",
    "*  verify the FAME input range and output range match"
   ]
  },
  {
   "cell_type": "code",
   "execution_count": null,
   "metadata": {},
   "outputs": [],
   "source": [
    "import os\n",
    "from __future__ import print_function\n",
    "\n",
    "import pandas as pd\n",
    "import pyhli \n",
    "import qoma_smuggler as qm"
   ]
  },
  {
   "cell_type": "markdown",
   "metadata": {},
   "source": [
    "The Qoma utility function `open_hli()` opens the FAME environment and prints diagnostic information."
   ]
  },
  {
   "cell_type": "code",
   "execution_count": null,
   "metadata": {},
   "outputs": [],
   "source": [
    "if qm.open_hli()!=0:\n",
    "    raise"
   ]
  },
  {
   "cell_type": "markdown",
   "metadata": {},
   "source": [
    "Each frequency key in the FAME frequency to Pandas frequency map `pandasFreq` will be tested below. A mutable length-one integer array is provided to the FAME HLI routine `fame_current_time()` to obtain the current date at a specified frequency."
   ]
  },
  {
   "cell_type": "code",
   "execution_count": null,
   "metadata": {},
   "outputs": [],
   "source": [
    "date = [-1]\n",
    "for freq in qm.PANDAS_FREQ:\n",
    "    # at each frequency, ask FAME for current date\n",
    "    status = pyhli.fame_current_time(freq, date)\n",
    "    now = date[0]\n",
    "    then = now-4\n",
    "    \n",
    "    # FAME range specifies: freq,start,end\n",
    "    frng_in = [freq,then,now]\n",
    "    # get Pandas range from FAME range\n",
    "    prng = qm.to_pandas_range(frng_in)\n",
    "    # get FAME range from Pandas range\n",
    "    frng_out = qm.to_fame_range(prng)\n",
    "    \n",
    "    # check that the FAME range in matches the FAME range out\n",
    "    matchString = \"match\" if frng_in == frng_out else \"NO MATCH\"\n",
    "    print(\"{0}\\n{1:10s} FAME in {2} FAME out {3}\\nPandas interim\\n{4}\\n\".format(\n",
    "        qm.type_to_string(freq),\n",
    "        matchString,\n",
    "        frng_in,\n",
    "        frng_out,\n",
    "        prng\n",
    "    ))"
   ]
  },
  {
   "cell_type": "markdown",
   "metadata": {},
   "source": [
    "The Qoma utility function `close_hli()` closes the FAME environment."
   ]
  },
  {
   "cell_type": "code",
   "execution_count": null,
   "metadata": {},
   "outputs": [],
   "source": [
    "if qm.close_hli()!=0:\n",
    "    raise"
   ]
  }
 ],
 "metadata": {
  "kernelspec": {
   "display_name": "Python 3",
   "language": "python",
   "name": "python3"
  },
  "language_info": {
   "codemirror_mode": {
    "name": "ipython",
    "version": 3
   },
   "file_extension": ".py",
   "mimetype": "text/x-python",
   "name": "python",
   "nbconvert_exporter": "python",
   "pygments_lexer": "ipython3",
   "version": "3.6.5"
  }
 },
 "nbformat": 4,
 "nbformat_minor": 2
}
