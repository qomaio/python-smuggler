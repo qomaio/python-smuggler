{
 "cells": [
  {
   "cell_type": "markdown",
   "metadata": {},
   "source": [
    "# Reading FAME databases from Python\n",
    "\n",
    "This example demonstrates reading FAME data objects into Pandas structures.\n",
    "\n",
    "FAME databases map data object names to data structures.  FAME data types include `BOOLEAN`, `DATE` (at various frequencies), `NUMERIC`, `PRECISION`, and `STRING`. The `pyhli` package maps FAME data types to compatible basic Python data types. The `qomautils` package further maps to more complex Pandas data structures such as `DatetimeIndex`, `Series`, and `DataFrame`."
   ]
  },
  {
   "cell_type": "code",
   "execution_count": null,
   "metadata": {},
   "outputs": [],
   "source": [
    "import os\n",
    "from __future__ import print_function\n",
    "import pandas as pd\n",
    "import qoma_smuggler as qm"
   ]
  },
  {
   "cell_type": "markdown",
   "metadata": {},
   "source": [
    "The Qoma utility function `open_hli()` opens the FAME environment and prints diagnostic information."
   ]
  },
  {
   "cell_type": "code",
   "execution_count": null,
   "metadata": {},
   "outputs": [],
   "source": [
    "if qm.open_hli()!=0:\n",
    "    raise"
   ]
  },
  {
   "cell_type": "markdown",
   "metadata": {},
   "source": [
    "The `qomautils` function `read_fame()` reads FAME data objects into a nested Python dictionary.  \n",
    "At the top level, each FAME object name is mapped to a dictionary with entries `data` and `fame`.  \n",
    "*  As appropriate, the entry `data` maps to a single data value or to multiple data values in an array.  \n",
    "    *  For FAME `SCALAR` objects, `data` maps to a value. \n",
    "    *  For FAME `SERIES` objects, `data` maps to an array of values.\n",
    "*  The entry `fame` maps to FAME object meta data such as object class (`SCALAR` or `SERIES`), object data type, and index values for `data`.\n",
    "\n",
    "The FAME distribution includes a number of sample databases.  We will use the `driecon` sample database for this notebook."
   ]
  },
  {
   "cell_type": "code",
   "execution_count": null,
   "metadata": {},
   "outputs": [],
   "source": [
    "dbname = os.path.join(os.environ['FAME'],'util','driecon')\n",
    "\n",
    "famedata = qm.read_fame(dbname)\n",
    "print(\"read_fame() returned {0} FAME objects from {1}.\\n\".format(len(famedata),dbname))"
   ]
  },
  {
   "cell_type": "markdown",
   "metadata": {},
   "source": [
    "The `print_fame_cata()` function in `qomautils` package is similar to the FAME 4GL command `CATALOG`.  We use `print_fame_cata()` to display a description of the contents of the Python dictionary `famedata` obtained wtih the `read_fame()` call."
   ]
  },
  {
   "cell_type": "code",
   "execution_count": null,
   "metadata": {},
   "outputs": [],
   "source": [
    "qm.print_catalog(famedata)"
   ]
  },
  {
   "cell_type": "markdown",
   "metadata": {},
   "source": [
    "We can be more selective in what we retrieve from a FAME database.  Here we specify a wildcard pattern \"IP?\". The Python dictionary `famedata` will now only include the industrial production time series in `driecon` with object name prefix \"IP\"."
   ]
  },
  {
   "cell_type": "code",
   "execution_count": null,
   "metadata": {},
   "outputs": [],
   "source": [
    "famedata = qm.read_fame(dbname,wilnam=\"IP?\")\n",
    "print(\"read_fame() returned {0} FAME objects from {1}.\\n\".format(len(famedata),dbname))\n",
    "qm.print_catalog(famedata)"
   ]
  },
  {
   "cell_type": "markdown",
   "metadata": {},
   "source": [
    "Some of the time series are quite long.  If we are only interested in a particular time window, we may specify a FAME date range.  Given Pandas data range `prng`, we convert to FAME date range `frng` using the `qomautils` function `to_fame_range()`.  We pass the FAME range to `read_fame()` as a parameter named `fame_range`.\n",
    "\n",
    "Note in Python and Pandas, the data range _excludes_ the end point.  In FAME, the end point is included in the date range.  `to_fame_range()` and `to_pandas_range()` handle this distinction automatically."
   ]
  },
  {
   "cell_type": "code",
   "execution_count": null,
   "metadata": {},
   "outputs": [],
   "source": [
    "# pandas range\n",
    "prng = pd.date_range(start='1998', end='2003', freq='A')\n",
    "\n",
    "# fame range\n",
    "frng = qm.to_fame_range(prng)\n",
    "\n",
    "famedata = qm.read_fame(dbname,fame_range=frng)\n",
    "print(\"read_fame() returned {0} FAME objects.\\n\".format(len(famedata)))\n",
    "qm.print_catalog(famedata)"
   ]
  },
  {
   "cell_type": "markdown",
   "metadata": {},
   "source": [
    "The Python dictionary `famedata` returned by `read_fame()` is easily converted to a Pandas `DataFrame`."
   ]
  },
  {
   "cell_type": "code",
   "execution_count": null,
   "metadata": {},
   "outputs": [],
   "source": [
    "pd.DataFrame(data=famedata).T"
   ]
  },
  {
   "cell_type": "markdown",
   "metadata": {},
   "source": [
    "We will call `read_fame()` one last time to retrieve _all_ data from `driecon`."
   ]
  },
  {
   "cell_type": "code",
   "execution_count": null,
   "metadata": {},
   "outputs": [],
   "source": [
    "famedata = qm.read_fame(dbname)\n",
    "print(\"read_fame() returned {0} FAME objects from {1}.\\n\".format(len(famedata),dbname))"
   ]
  },
  {
   "cell_type": "markdown",
   "metadata": {},
   "source": [
    "We retrieve individual FAME data objects from the Python dictionary `famedata` using the `qomautils` function `get_fame_data()`."
   ]
  },
  {
   "cell_type": "code",
   "execution_count": null,
   "metadata": {},
   "outputs": [],
   "source": [
    "print(qm.meta_to_string(famedata,'STRING_ATTRIBUTE_NAMES'))\n",
    "qm.get(famedata,'STRING_ATTRIBUTE_NAMES')"
   ]
  },
  {
   "cell_type": "code",
   "execution_count": null,
   "metadata": {},
   "outputs": [],
   "source": [
    "print(qm.meta_to_string(famedata,'DESC'))\n",
    "qm.get(famedata,'DESC')"
   ]
  },
  {
   "cell_type": "code",
   "execution_count": null,
   "metadata": {},
   "outputs": [],
   "source": [
    "print(qm.meta_to_string(famedata,'GDP'))\n",
    "qm.get(famedata,'GDP')"
   ]
  },
  {
   "cell_type": "code",
   "execution_count": null,
   "metadata": {},
   "outputs": [],
   "source": [
    "frng = famedata['GDP'].get('fame').get('range')\n",
    "print(frng)\n",
    "print(qm.to_pandas_range(frng))"
   ]
  },
  {
   "cell_type": "markdown",
   "metadata": {},
   "source": [
    "The Qoma utility function `close_hli()` closes the FAME environment."
   ]
  },
  {
   "cell_type": "code",
   "execution_count": null,
   "metadata": {},
   "outputs": [],
   "source": [
    "if qm.close_hli() != 0:\n",
    "    raise"
   ]
  }
 ],
 "metadata": {
  "kernelspec": {
   "display_name": "Python 3",
   "language": "python",
   "name": "python3"
  },
  "language_info": {
   "codemirror_mode": {
    "name": "ipython",
    "version": 3
   },
   "file_extension": ".py",
   "mimetype": "text/x-python",
   "name": "python",
   "nbconvert_exporter": "python",
   "pygments_lexer": "ipython3",
   "version": "3.6.5"
  }
 },
 "nbformat": 4,
 "nbformat_minor": 2
}
