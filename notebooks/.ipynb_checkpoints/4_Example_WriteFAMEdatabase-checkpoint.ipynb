{
 "cells": [
  {
   "cell_type": "markdown",
   "metadata": {},
   "source": [
    "# Writing a FAME database from Python\n",
    "\n",
    "This example demonstrates writing a FAME database."
   ]
  },
  {
   "cell_type": "code",
   "execution_count": null,
   "metadata": {},
   "outputs": [],
   "source": [
    "import os\n",
    "import sys\n",
    "from __future__ import print_function\n",
    "\n",
    "\n",
    "import pandas as pd\n",
    "import qoma_smuggler as qm\n",
    "import pyhli"
   ]
  },
  {
   "cell_type": "markdown",
   "metadata": {},
   "source": [
    "The Qoma utility function `open_hli()` opens the FAME environment and prints diagnostic information."
   ]
  },
  {
   "cell_type": "code",
   "execution_count": null,
   "metadata": {},
   "outputs": [],
   "source": [
    "if qm.open_hli()!=0:\n",
    "    raise"
   ]
  },
  {
   "cell_type": "code",
   "execution_count": null,
   "metadata": {},
   "outputs": [],
   "source": [
    "dbname = os.path.join(os.environ['FAME'],'util','driecon')\n",
    "\n",
    "famedata = qm.read_fame(dbname)\n",
    "print(\"read_fame() returned {0} FAME objects from {1}.\\n\".format(len(famedata),dbname))"
   ]
  },
  {
   "cell_type": "code",
   "execution_count": null,
   "metadata": {},
   "outputs": [],
   "source": [
    "qm.write_fame(\"mycopy\",famedata)"
   ]
  },
  {
   "cell_type": "code",
   "execution_count": null,
   "metadata": {},
   "outputs": [],
   "source": [
    "x = qm.get(famedata,'DESC')\n",
    "x"
   ]
  },
  {
   "cell_type": "code",
   "execution_count": null,
   "metadata": {},
   "outputs": [],
   "source": [
    "x.index.dtype"
   ]
  },
  {
   "cell_type": "code",
   "execution_count": null,
   "metadata": {},
   "outputs": [],
   "source": [
    "gdp = qm.get(famedata,'GDP')\n",
    "gdp.index.dtype == 'datetime64[ns]'"
   ]
  },
  {
   "cell_type": "code",
   "execution_count": null,
   "metadata": {},
   "outputs": [],
   "source": [
    "cmd = ['\\\n",
    "    open mycopy; \\\n",
    "    output<acc over>mycopy.txt; \\\n",
    "    cata mycopy; \\\n",
    "    show vert; length full; width 132;\\\n",
    "    justify colu contents left; \\\n",
    "    justify colu head left; \\\n",
    "    case *; \\\n",
    "    repo NAMES, DESC; \\\n",
    "    width 80; \\\n",
    "    date 1998a to *; \\\n",
    "    disp GDP, !STRING_ATTRIBUTE_NAMES; \\\n",
    "    whats !STRING_ATTRIBUTE_NAMES; \\\n",
    "    output terminal; \\\n",
    "    close mycopy ; \\\n",
    "    exit \\\n",
    "    ']\n",
    "pyhli.cfmfame ([-1], cmd)\n",
    "qm.print_file('mycopy.txt')"
   ]
  },
  {
   "cell_type": "markdown",
   "metadata": {},
   "source": [
    "The Qoma utility function `close_hli()` closes the FAME environment."
   ]
  },
  {
   "cell_type": "code",
   "execution_count": null,
   "metadata": {},
   "outputs": [],
   "source": [
    "if qm.close_hli() != 0:\n",
    "    raise"
   ]
  },
  {
   "cell_type": "code",
   "execution_count": null,
   "metadata": {},
   "outputs": [],
   "source": [
    "os.remove(\"mycopy.txt\")\n",
    "os.remove(\"mycopy.db\")"
   ]
  },
  {
   "cell_type": "code",
   "execution_count": null,
   "metadata": {},
   "outputs": [],
   "source": []
  }
 ],
 "metadata": {
  "kernelspec": {
   "display_name": "Python 3",
   "language": "python",
   "name": "python3"
  },
  "language_info": {
   "codemirror_mode": {
    "name": "ipython",
    "version": 3
   },
   "file_extension": ".py",
   "mimetype": "text/x-python",
   "name": "python",
   "nbconvert_exporter": "python",
   "pygments_lexer": "ipython3",
   "version": "3.6.5"
  }
 },
 "nbformat": 4,
 "nbformat_minor": 2
}
